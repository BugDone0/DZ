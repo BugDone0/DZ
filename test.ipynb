{
 "cells": [
  {
   "cell_type": "code",
   "execution_count": 136,
   "metadata": {},
   "outputs": [],
   "source": [
    "import json\n",
    "\n",
    "purchases={}\n",
    "\n",
    "with open(file='purchase_log.txt') as file:\n",
    "    for line in file:\n",
    "        purchases[json.loads(line).get(\"user_id\")] = json.loads(line).get(\"category\")\n"
   ]
  },
  {
   "cell_type": "code",
   "execution_count": 140,
   "metadata": {},
   "outputs": [],
   "source": [
    "f_funnel = open('funnel.csv', 'w')\n",
    "visit_log = open('visit_log.csv', 'r')\n",
    "for line in visit_log:\n",
    "    user_inf=line.split(',')\n",
    "    try:\n",
    "        f_funnel.write(f\"{user_inf[0]}, {user_inf[1].strip()}, {purchases[user_inf[0]]}\\n\")\n",
    "    finally:\n",
    "        continue\n",
    "\n",
    "visit_log.close()\n",
    "f_funnel.close()"
   ]
  }
 ],
 "metadata": {
  "kernelspec": {
   "display_name": "Python 3",
   "language": "python",
   "name": "python3"
  },
  "language_info": {
   "codemirror_mode": {
    "name": "ipython",
    "version": 3
   },
   "file_extension": ".py",
   "mimetype": "text/x-python",
   "name": "python",
   "nbconvert_exporter": "python",
   "pygments_lexer": "ipython3",
   "version": "3.13.0"
  }
 },
 "nbformat": 4,
 "nbformat_minor": 2
}
